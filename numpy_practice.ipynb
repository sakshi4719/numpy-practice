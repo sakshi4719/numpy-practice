{
  "nbformat": 4,
  "nbformat_minor": 0,
  "metadata": {
    "colab": {
      "provenance": [],
      "toc_visible": true
    },
    "kernelspec": {
      "name": "python3",
      "display_name": "Python 3"
    },
    "language_info": {
      "name": "python"
    }
  },
  "cells": [
    {
      "cell_type": "code",
      "source": [
        "import numpy as np"
      ],
      "metadata": {
        "id": "JWPwKvNwIHoP"
      },
      "execution_count": 7,
      "outputs": []
    },
    {
      "cell_type": "code",
      "source": [
        "data = np.random.rand(2, 3, 4)\n",
        "zeroes = np.zeros((2, 2, 2))\n",
        "full = np.full((2, 2, 2), 7)\n",
        "ones = np.ones((2, 2, 2))"
      ],
      "metadata": {
        "id": "GYXjee60IJpG"
      },
      "execution_count": 8,
      "outputs": []
    },
    {
      "cell_type": "code",
      "source": [
        "data"
      ],
      "metadata": {
        "colab": {
          "base_uri": "https://localhost:8080/"
        },
        "id": "SCaVpOOMIZPR",
        "outputId": "3f6bb6ae-f116-4ca8-a295-53bccf746297"
      },
      "execution_count": 9,
      "outputs": [
        {
          "output_type": "execute_result",
          "data": {
            "text/plain": [
              "array([[[0.0878162 , 0.86601353, 0.54729465, 0.90737194],\n",
              "        [0.47781666, 0.85206039, 0.10925992, 0.02745276],\n",
              "        [0.77755713, 0.0191249 , 0.82907258, 0.40342299]],\n",
              "\n",
              "       [[0.77901071, 0.2538194 , 0.76743541, 0.70292923],\n",
              "        [0.11290255, 0.73933179, 0.33463439, 0.36729466],\n",
              "        [0.40398917, 0.38927956, 0.14102667, 0.64408237]]])"
            ]
          },
          "metadata": {},
          "execution_count": 9
        }
      ]
    },
    {
      "cell_type": "code",
      "source": [
        "full"
      ],
      "metadata": {
        "colab": {
          "base_uri": "https://localhost:8080/"
        },
        "id": "uo4lP7ooJCTV",
        "outputId": "8696f25c-ade6-459b-e365-cafc0940351e"
      },
      "execution_count": 10,
      "outputs": [
        {
          "output_type": "execute_result",
          "data": {
            "text/plain": [
              "array([[[7, 7],\n",
              "        [7, 7]],\n",
              "\n",
              "       [[7, 7],\n",
              "        [7, 7]]])"
            ]
          },
          "metadata": {},
          "execution_count": 10
        }
      ]
    },
    {
      "cell_type": "code",
      "source": [
        "ones"
      ],
      "metadata": {
        "colab": {
          "base_uri": "https://localhost:8080/"
        },
        "id": "IjZ-5t6BJFs_",
        "outputId": "479c7092-b6c1-459e-f6e4-e80d3fcbc726"
      },
      "execution_count": null,
      "outputs": [
        {
          "output_type": "execute_result",
          "data": {
            "text/plain": [
              "array([[[1., 1.],\n",
              "        [1., 1.]],\n",
              "\n",
              "       [[1., 1.],\n",
              "        [1., 1.]]])"
            ]
          },
          "metadata": {},
          "execution_count": 9
        }
      ]
    },
    {
      "cell_type": "code",
      "source": [
        "zeroes"
      ],
      "metadata": {
        "colab": {
          "base_uri": "https://localhost:8080/"
        },
        "id": "GgovuL-9JS_e",
        "outputId": "9a813857-37cd-4ebb-a3eb-77ba0e046d12"
      },
      "execution_count": null,
      "outputs": [
        {
          "output_type": "execute_result",
          "data": {
            "text/plain": [
              "array([[[0., 0.],\n",
              "        [0., 0.]],\n",
              "\n",
              "       [[0., 0.],\n",
              "        [0., 0.]]])"
            ]
          },
          "metadata": {},
          "execution_count": 10
        }
      ]
    },
    {
      "cell_type": "code",
      "source": [
        "arr = np.array([[1, 2, 3, 4], [1, 2, 3, 4]])"
      ],
      "metadata": {
        "id": "vABrKMRoJVmT"
      },
      "execution_count": null,
      "outputs": []
    },
    {
      "cell_type": "code",
      "source": [
        "type(arr)"
      ],
      "metadata": {
        "colab": {
          "base_uri": "https://localhost:8080/"
        },
        "id": "tKvpRQFINTUM",
        "outputId": "cba6ad3c-2a6b-4ea0-c7a6-2b6927646288"
      },
      "execution_count": null,
      "outputs": [
        {
          "output_type": "execute_result",
          "data": {
            "text/plain": [
              "numpy.ndarray"
            ]
          },
          "metadata": {},
          "execution_count": 13
        }
      ]
    },
    {
      "cell_type": "code",
      "source": [
        "shape = data.shape\n",
        "types = data.dtype\n",
        "size = data.size"
      ],
      "metadata": {
        "id": "pETCstmBNb1E"
      },
      "execution_count": null,
      "outputs": []
    },
    {
      "cell_type": "code",
      "source": [
        "types"
      ],
      "metadata": {
        "colab": {
          "base_uri": "https://localhost:8080/"
        },
        "id": "kWImDxuoNjP-",
        "outputId": "05f30c1c-2da1-4c39-c2f4-0a1435ab98a2"
      },
      "execution_count": null,
      "outputs": [
        {
          "output_type": "execute_result",
          "data": {
            "text/plain": [
              "dtype('float64')"
            ]
          },
          "metadata": {},
          "execution_count": 19
        }
      ]
    },
    {
      "cell_type": "code",
      "source": [
        "arr = data[0]\n",
        "slicer = data[0:2]\n",
        "reverse = data[-1]\n",
        "single_value = data[0][0][0]"
      ],
      "metadata": {
        "id": "VMVrqciuNvj3"
      },
      "execution_count": null,
      "outputs": []
    },
    {
      "cell_type": "code",
      "source": [
        "slicer"
      ],
      "metadata": {
        "colab": {
          "base_uri": "https://localhost:8080/"
        },
        "id": "WIxA8HZmNwLU",
        "outputId": "a8d3d8ee-5aad-477b-b77a-b54006e52c7a"
      },
      "execution_count": null,
      "outputs": [
        {
          "output_type": "execute_result",
          "data": {
            "text/plain": [
              "array([[[0.91252289, 0.84108703, 0.57262228, 0.08775099],\n",
              "        [0.34751359, 0.85094488, 0.97986847, 0.55345027],\n",
              "        [0.42754004, 0.24421018, 0.13275618, 0.15571726]],\n",
              "\n",
              "       [[0.86624397, 0.59446872, 0.60709032, 0.18110149],\n",
              "        [0.60256171, 0.80085945, 0.59991867, 0.52314822],\n",
              "        [0.31467456, 0.31614001, 0.63714265, 0.53016624]]])"
            ]
          },
          "metadata": {},
          "execution_count": 21
        }
      ]
    },
    {
      "cell_type": "code",
      "source": [
        "reverse"
      ],
      "metadata": {
        "colab": {
          "base_uri": "https://localhost:8080/"
        },
        "id": "1dG3Ov3MOA5d",
        "outputId": "2d321af1-482b-46e5-b51b-776160d4c2b7"
      },
      "execution_count": null,
      "outputs": [
        {
          "output_type": "execute_result",
          "data": {
            "text/plain": [
              "array([[0.86624397, 0.59446872, 0.60709032, 0.18110149],\n",
              "       [0.60256171, 0.80085945, 0.59991867, 0.52314822],\n",
              "       [0.31467456, 0.31614001, 0.63714265, 0.53016624]])"
            ]
          },
          "metadata": {},
          "execution_count": 22
        }
      ]
    },
    {
      "cell_type": "code",
      "source": [
        "single_value"
      ],
      "metadata": {
        "colab": {
          "base_uri": "https://localhost:8080/"
        },
        "id": "KsGWZxgXPUoi",
        "outputId": "5b116250-1e4a-465b-94ab-04100da2aed3"
      },
      "execution_count": null,
      "outputs": [
        {
          "output_type": "execute_result",
          "data": {
            "text/plain": [
              "0.9125228897944582"
            ]
          },
          "metadata": {},
          "execution_count": 23
        }
      ]
    },
    {
      "cell_type": "code",
      "source": [
        "list1 = np.random.rand(10)\n",
        "list2 = np.random.rand(10)"
      ],
      "metadata": {
        "id": "jGGC1asvPWu5"
      },
      "execution_count": null,
      "outputs": []
    },
    {
      "cell_type": "code",
      "source": [
        "list1"
      ],
      "metadata": {
        "colab": {
          "base_uri": "https://localhost:8080/"
        },
        "id": "p9b_INEoPfja",
        "outputId": "1466a022-9a55-42b1-c8b5-0e78009d7401"
      },
      "execution_count": null,
      "outputs": [
        {
          "output_type": "execute_result",
          "data": {
            "text/plain": [
              "array([0.79570925, 0.61421872, 0.78599045, 0.73129087, 0.62499507,\n",
              "       0.68320856, 0.68601141, 0.01321377, 0.68472952, 0.5776728 ])"
            ]
          },
          "metadata": {},
          "execution_count": 25
        }
      ]
    },
    {
      "cell_type": "code",
      "source": [
        "list2"
      ],
      "metadata": {
        "colab": {
          "base_uri": "https://localhost:8080/"
        },
        "id": "V4il4Li-PiGQ",
        "outputId": "31c08605-0711-4c31-9419-a3a0ff05b785"
      },
      "execution_count": null,
      "outputs": [
        {
          "output_type": "execute_result",
          "data": {
            "text/plain": [
              "array([0.39969889, 0.94682023, 0.85122499, 0.36149327, 0.96603905,\n",
              "       0.52512832, 0.426348  , 0.37072569, 0.98958041, 0.77834453])"
            ]
          },
          "metadata": {},
          "execution_count": 26
        }
      ]
    },
    {
      "cell_type": "code",
      "source": [
        "# Basic Math\n",
        "add = np.add(list1, list2)\n",
        "sub = np.subtract(list1, list2)\n",
        "div = np.divide(list1, list2)\n",
        "mult = np.multiply(list1, list2)\n",
        "dot = np.dot(list1, list2)"
      ],
      "metadata": {
        "id": "hjyTU1XhPi22"
      },
      "execution_count": null,
      "outputs": []
    },
    {
      "cell_type": "code",
      "source": [
        "add"
      ],
      "metadata": {
        "colab": {
          "base_uri": "https://localhost:8080/"
        },
        "id": "olVqVBsDPqn-",
        "outputId": "c335d642-7604-4642-dc62-66cbe2e5fcaa"
      },
      "execution_count": null,
      "outputs": [
        {
          "output_type": "execute_result",
          "data": {
            "text/plain": [
              "array([1.19540814, 1.56103895, 1.63721545, 1.09278414, 1.59103412,\n",
              "       1.20833688, 1.11235941, 0.38393946, 1.67430993, 1.35601733])"
            ]
          },
          "metadata": {},
          "execution_count": 28
        }
      ]
    },
    {
      "cell_type": "code",
      "source": [
        "sub"
      ],
      "metadata": {
        "colab": {
          "base_uri": "https://localhost:8080/"
        },
        "id": "1xLZN_bIPr4t",
        "outputId": "0b79453f-2960-415c-c2c3-f20336329228"
      },
      "execution_count": null,
      "outputs": [
        {
          "output_type": "execute_result",
          "data": {
            "text/plain": [
              "array([ 0.39601037, -0.33260151, -0.06523454,  0.3697976 , -0.34104398,\n",
              "        0.15808023,  0.25966342, -0.35751192, -0.3048509 , -0.20067173])"
            ]
          },
          "metadata": {},
          "execution_count": 29
        }
      ]
    },
    {
      "cell_type": "code",
      "source": [
        "div"
      ],
      "metadata": {
        "colab": {
          "base_uri": "https://localhost:8080/"
        },
        "id": "No5fV7I_Pslo",
        "outputId": "e1598ff6-3fd0-46b0-c548-33b30b770ec3"
      },
      "execution_count": null,
      "outputs": [
        {
          "output_type": "execute_result",
          "data": {
            "text/plain": [
              "array([1.99077174, 0.64871736, 0.92336393, 2.02297231, 0.64696667,\n",
              "       1.30103163, 1.60904101, 0.03564298, 0.69193924, 0.74218136])"
            ]
          },
          "metadata": {},
          "execution_count": 30
        }
      ]
    },
    {
      "cell_type": "code",
      "source": [
        "mult"
      ],
      "metadata": {
        "colab": {
          "base_uri": "https://localhost:8080/"
        },
        "id": "fJR2cPqVPtNx",
        "outputId": "ee77be3d-89aa-4da6-9139-352a2bc519de"
      },
      "execution_count": null,
      "outputs": [
        {
          "output_type": "execute_result",
          "data": {
            "text/plain": [
              "array([0.31804411, 0.58155471, 0.66905472, 0.26435673, 0.60376964,\n",
              "       0.35877216, 0.29247959, 0.00489868, 0.67759492, 0.44962846])"
            ]
          },
          "metadata": {},
          "execution_count": 31
        }
      ]
    },
    {
      "cell_type": "code",
      "source": [
        "dot"
      ],
      "metadata": {
        "colab": {
          "base_uri": "https://localhost:8080/"
        },
        "id": "jfz-NPKBPtqt",
        "outputId": "82dee33d-3d4c-429d-d74f-935a383ff919"
      },
      "execution_count": null,
      "outputs": [
        {
          "output_type": "execute_result",
          "data": {
            "text/plain": [
              "4.2201537215349845"
            ]
          },
          "metadata": {},
          "execution_count": 32
        }
      ]
    },
    {
      "cell_type": "code",
      "source": [
        "# Statistic Functions\n",
        "sqrt = np.sqrt(25)\n",
        "ab = np.abs(-2)\n",
        "power = np.power(2, 7)\n",
        "log = np.log(25)\n",
        "exp = np.exp([2, 3])\n",
        "mins = np.min(list1)\n",
        "maxs = np.max(list2)"
      ],
      "metadata": {
        "id": "ik2Vt4WvPulb"
      },
      "execution_count": null,
      "outputs": []
    },
    {
      "cell_type": "code",
      "source": [
        "sqrt"
      ],
      "metadata": {
        "colab": {
          "base_uri": "https://localhost:8080/"
        },
        "id": "kYl-WlpdP2DN",
        "outputId": "b5d92301-4422-40b5-9021-c9bed89b4e7b"
      },
      "execution_count": null,
      "outputs": [
        {
          "output_type": "execute_result",
          "data": {
            "text/plain": [
              "5.0"
            ]
          },
          "metadata": {},
          "execution_count": 35
        }
      ]
    },
    {
      "cell_type": "code",
      "source": [
        "ab"
      ],
      "metadata": {
        "colab": {
          "base_uri": "https://localhost:8080/"
        },
        "id": "36NlWuSCP5Zu",
        "outputId": "64e50c7f-4e01-4106-9c95-baaaf340eba0"
      },
      "execution_count": null,
      "outputs": [
        {
          "output_type": "execute_result",
          "data": {
            "text/plain": [
              "2"
            ]
          },
          "metadata": {},
          "execution_count": 36
        }
      ]
    },
    {
      "cell_type": "code",
      "source": [
        "power"
      ],
      "metadata": {
        "colab": {
          "base_uri": "https://localhost:8080/"
        },
        "id": "o-_7pJaeP6uQ",
        "outputId": "a6d1bd40-3100-4288-b165-c07d809e3670"
      },
      "execution_count": null,
      "outputs": [
        {
          "output_type": "execute_result",
          "data": {
            "text/plain": [
              "128"
            ]
          },
          "metadata": {},
          "execution_count": 37
        }
      ]
    },
    {
      "cell_type": "code",
      "source": [
        "log"
      ],
      "metadata": {
        "colab": {
          "base_uri": "https://localhost:8080/"
        },
        "id": "LUbEXOlQP7_c",
        "outputId": "05eae0c3-39bc-4f83-9c19-8d918530a5e5"
      },
      "execution_count": null,
      "outputs": [
        {
          "output_type": "execute_result",
          "data": {
            "text/plain": [
              "3.2188758248682006"
            ]
          },
          "metadata": {},
          "execution_count": 38
        }
      ]
    },
    {
      "cell_type": "code",
      "source": [
        "exp"
      ],
      "metadata": {
        "colab": {
          "base_uri": "https://localhost:8080/"
        },
        "id": "ohm_6JfkP82c",
        "outputId": "514299e3-9f6e-4f8d-a3d7-9f9cf0febdf7"
      },
      "execution_count": null,
      "outputs": [
        {
          "output_type": "execute_result",
          "data": {
            "text/plain": [
              "array([ 7.3890561 , 20.08553692])"
            ]
          },
          "metadata": {},
          "execution_count": 39
        }
      ]
    },
    {
      "cell_type": "code",
      "source": [
        "mins"
      ],
      "metadata": {
        "colab": {
          "base_uri": "https://localhost:8080/"
        },
        "id": "NxJ01FPHP946",
        "outputId": "f345dd02-4cba-4afa-9bc2-7766154b4305"
      },
      "execution_count": null,
      "outputs": [
        {
          "output_type": "execute_result",
          "data": {
            "text/plain": [
              "0.013213768872166187"
            ]
          },
          "metadata": {},
          "execution_count": 40
        }
      ]
    },
    {
      "cell_type": "code",
      "source": [
        "maxs"
      ],
      "metadata": {
        "colab": {
          "base_uri": "https://localhost:8080/"
        },
        "id": "vULpiNAhP-sh",
        "outputId": "7f8ccb39-7feb-4090-d8c3-5116f891ffc1"
      },
      "execution_count": null,
      "outputs": [
        {
          "output_type": "execute_result",
          "data": {
            "text/plain": [
              "0.9895804143681881"
            ]
          },
          "metadata": {},
          "execution_count": 42
        }
      ]
    },
    {
      "cell_type": "code",
      "source": [
        "data"
      ],
      "metadata": {
        "colab": {
          "base_uri": "https://localhost:8080/"
        },
        "id": "Z0yFViY9QAkO",
        "outputId": "1ae734ba-4e32-41d8-a6dc-a4f465a52ccf"
      },
      "execution_count": 11,
      "outputs": [
        {
          "output_type": "execute_result",
          "data": {
            "text/plain": [
              "array([[[0.0878162 , 0.86601353, 0.54729465, 0.90737194],\n",
              "        [0.47781666, 0.85206039, 0.10925992, 0.02745276],\n",
              "        [0.77755713, 0.0191249 , 0.82907258, 0.40342299]],\n",
              "\n",
              "       [[0.77901071, 0.2538194 , 0.76743541, 0.70292923],\n",
              "        [0.11290255, 0.73933179, 0.33463439, 0.36729466],\n",
              "        [0.40398917, 0.38927956, 0.14102667, 0.64408237]]])"
            ]
          },
          "metadata": {},
          "execution_count": 11
        }
      ]
    },
    {
      "cell_type": "code",
      "source": [
        "data[0][0][0] = 700\n",
        "data"
      ],
      "metadata": {
        "id": "TOPg8iuTQFay",
        "colab": {
          "base_uri": "https://localhost:8080/"
        },
        "outputId": "4bfa3cd6-1db2-4521-aaba-1919b27532a9"
      },
      "execution_count": 13,
      "outputs": [
        {
          "output_type": "execute_result",
          "data": {
            "text/plain": [
              "array([[[7.00000000e+02, 8.66013531e-01, 5.47294653e-01, 9.07371940e-01],\n",
              "        [4.77816658e-01, 8.52060394e-01, 1.09259917e-01, 2.74527585e-02],\n",
              "        [7.77557127e-01, 1.91248963e-02, 8.29072576e-01, 4.03422993e-01]],\n",
              "\n",
              "       [[7.79010707e-01, 2.53819397e-01, 7.67435411e-01, 7.02929227e-01],\n",
              "        [1.12902548e-01, 7.39331790e-01, 3.34634389e-01, 3.67294658e-01],\n",
              "        [4.03989172e-01, 3.89279565e-01, 1.41026674e-01, 6.44082369e-01]]])"
            ]
          },
          "metadata": {},
          "execution_count": 13
        }
      ]
    },
    {
      "cell_type": "code",
      "source": [
        "data.sort()\n",
        "data"
      ],
      "metadata": {
        "colab": {
          "base_uri": "https://localhost:8080/"
        },
        "id": "jO0IZB7-QOUd",
        "outputId": "11600b53-ee8e-4a06-8ea1-95336641bfe4"
      },
      "execution_count": 14,
      "outputs": [
        {
          "output_type": "execute_result",
          "data": {
            "text/plain": [
              "array([[[5.47294653e-01, 8.66013531e-01, 9.07371940e-01, 7.00000000e+02],\n",
              "        [2.74527585e-02, 1.09259917e-01, 4.77816658e-01, 8.52060394e-01],\n",
              "        [1.91248963e-02, 4.03422993e-01, 7.77557127e-01, 8.29072576e-01]],\n",
              "\n",
              "       [[2.53819397e-01, 7.02929227e-01, 7.67435411e-01, 7.79010707e-01],\n",
              "        [1.12902548e-01, 3.34634389e-01, 3.67294658e-01, 7.39331790e-01],\n",
              "        [1.41026674e-01, 3.89279565e-01, 4.03989172e-01, 6.44082369e-01]]])"
            ]
          },
          "metadata": {},
          "execution_count": 14
        }
      ]
    },
    {
      "cell_type": "code",
      "source": [
        "print(data.shape)"
      ],
      "metadata": {
        "colab": {
          "base_uri": "https://localhost:8080/"
        },
        "id": "TDdGxADvQWTf",
        "outputId": "50e4d5ed-eb00-42e3-fe6e-fc6cfeb4808e"
      },
      "execution_count": null,
      "outputs": [
        {
          "output_type": "stream",
          "name": "stdout",
          "text": [
            "(2, 3, 4)\n"
          ]
        }
      ]
    },
    {
      "cell_type": "code",
      "source": [
        "data = data.reshape((2, 2, -1))\n",
        "data.shape"
      ],
      "metadata": {
        "colab": {
          "base_uri": "https://localhost:8080/"
        },
        "id": "BYILofgnQig_",
        "outputId": "64503887-44eb-49bb-81aa-d758f12cd1b2"
      },
      "execution_count": null,
      "outputs": [
        {
          "output_type": "execute_result",
          "data": {
            "text/plain": [
              "(2, 2, 6)"
            ]
          },
          "metadata": {},
          "execution_count": 49
        }
      ]
    },
    {
      "cell_type": "code",
      "source": [
        "zeroes = np.zeros((8))\n",
        "print(zeroes)\n",
        "zeroes = np.append(zeroes, [3, 4])\n",
        "print(zeroes)"
      ],
      "metadata": {
        "colab": {
          "base_uri": "https://localhost:8080/"
        },
        "id": "I-5AeZ8pQq0a",
        "outputId": "fb46cce9-52ea-49ac-85e3-849955a547c0"
      },
      "execution_count": 16,
      "outputs": [
        {
          "output_type": "stream",
          "name": "stdout",
          "text": [
            "[0. 0. 0. 0. 0. 0. 0. 0.]\n",
            "[0. 0. 0. 0. 0. 0. 0. 0. 3. 4.]\n"
          ]
        }
      ]
    },
    {
      "cell_type": "code",
      "source": [
        "zeroes = np.insert(zeroes, 2, 1)\n",
        "print(zeroes)"
      ],
      "metadata": {
        "id": "M-3PqX1cRp8M",
        "colab": {
          "base_uri": "https://localhost:8080/"
        },
        "outputId": "e0a99c81-684d-49b3-ec92-d2d929d3294b"
      },
      "execution_count": 17,
      "outputs": [
        {
          "output_type": "stream",
          "name": "stdout",
          "text": [
            "[0. 0. 1. 0. 0. 0. 0. 0. 0. 3. 4.]\n"
          ]
        }
      ]
    },
    {
      "cell_type": "code",
      "source": [
        "np.delete(data, 0, axis=1)"
      ],
      "metadata": {
        "colab": {
          "base_uri": "https://localhost:8080/"
        },
        "id": "DyxD85qSHBqC",
        "outputId": "c8cb4ad2-01bc-401d-d91d-3d86733bc02d"
      },
      "execution_count": 18,
      "outputs": [
        {
          "output_type": "execute_result",
          "data": {
            "text/plain": [
              "array([[[0.02745276, 0.10925992, 0.47781666, 0.85206039],\n",
              "        [0.0191249 , 0.40342299, 0.77755713, 0.82907258]],\n",
              "\n",
              "       [[0.11290255, 0.33463439, 0.36729466, 0.73933179],\n",
              "        [0.14102667, 0.38927956, 0.40398917, 0.64408237]]])"
            ]
          },
          "metadata": {},
          "execution_count": 18
        }
      ]
    },
    {
      "cell_type": "code",
      "source": [
        "np.save(\"new array\", data)"
      ],
      "metadata": {
        "id": "xoadVXobHB1s"
      },
      "execution_count": 19,
      "outputs": []
    },
    {
      "cell_type": "code",
      "source": [
        "test = np.load(\"new array.npy\")"
      ],
      "metadata": {
        "id": "cCOldfwYHB55"
      },
      "execution_count": 20,
      "outputs": []
    },
    {
      "cell_type": "code",
      "source": [
        "test"
      ],
      "metadata": {
        "colab": {
          "base_uri": "https://localhost:8080/"
        },
        "id": "NKkeusTsHmFu",
        "outputId": "ed502dda-dfdc-4c5e-da34-bb23a6d1b3a6"
      },
      "execution_count": 21,
      "outputs": [
        {
          "output_type": "execute_result",
          "data": {
            "text/plain": [
              "array([[[5.47294653e-01, 8.66013531e-01, 9.07371940e-01, 7.00000000e+02],\n",
              "        [2.74527585e-02, 1.09259917e-01, 4.77816658e-01, 8.52060394e-01],\n",
              "        [1.91248963e-02, 4.03422993e-01, 7.77557127e-01, 8.29072576e-01]],\n",
              "\n",
              "       [[2.53819397e-01, 7.02929227e-01, 7.67435411e-01, 7.79010707e-01],\n",
              "        [1.12902548e-01, 3.34634389e-01, 3.67294658e-01, 7.39331790e-01],\n",
              "        [1.41026674e-01, 3.89279565e-01, 4.03989172e-01, 6.44082369e-01]]])"
            ]
          },
          "metadata": {},
          "execution_count": 21
        }
      ]
    }
  ]
}